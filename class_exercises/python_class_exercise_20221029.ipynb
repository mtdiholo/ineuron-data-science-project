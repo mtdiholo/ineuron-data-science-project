{
 "cells": [
  {
   "cell_type": "code",
   "execution_count": null,
   "metadata": {},
   "outputs": [],
   "source": [
    "1. Write a function which will try to find out the length of a string without using a built-in len function."
   ]
  },
  {
   "cell_type": "code",
   "execution_count": 5,
   "metadata": {},
   "outputs": [
    {
     "name": "stdout",
     "output_type": "stream",
     "text": [
      "7\n"
     ]
    }
   ],
   "source": [
    "def determine_string_length(string):\n",
    "    \"\"\" This function determines and returns the length of a string that is parsed dynamically, \n",
    "        without using the bult-in len() function.\"\"\"\n",
    "    count = 0\n",
    "    for char in string:\n",
    "        count += 1\n",
    "    return count\n",
    "\n",
    "string_length = determine_string_length(\"Michael\")\n",
    "print(string_length)"
   ]
  },
  {
   "cell_type": "code",
   "execution_count": null,
   "metadata": {},
   "outputs": [],
   "source": []
  },
  {
   "cell_type": "code",
   "execution_count": null,
   "metadata": {},
   "outputs": [],
   "source": []
  },
  {
   "cell_type": "code",
   "execution_count": null,
   "metadata": {},
   "outputs": [],
   "source": [
    "2. Write a function which will be able to print an index of a list element without using an index function."
   ]
  },
  {
   "cell_type": "code",
   "execution_count": 6,
   "metadata": {},
   "outputs": [
    {
     "name": "stdout",
     "output_type": "stream",
     "text": [
      "apple - [0]\n",
      "orange - [1]\n",
      "banana - [2]\n",
      "pear - [3]\n",
      "grape - [4]\n",
      "berrys - [5]\n"
     ]
    }
   ],
   "source": [
    "def get_list_element_index(lst):\n",
    "    \"\"\"This function prints index list element and its index, without using the built-in index function.\"\"\"\n",
    "    ind = 0\n",
    "    for i in lst:\n",
    "        print(f\"{i} - [{ind}]\")\n",
    "        ind += 1\n",
    "\n",
    "get_list_element_index([\"apple\", \"orange\", \"banana\", \"pear\", \"grape\", \"berrys\"])"
   ]
  },
  {
   "cell_type": "code",
   "execution_count": null,
   "metadata": {},
   "outputs": [],
   "source": []
  },
  {
   "cell_type": "code",
   "execution_count": null,
   "metadata": {},
   "outputs": [],
   "source": []
  },
  {
   "cell_type": "code",
   "execution_count": null,
   "metadata": {},
   "outputs": [],
   "source": [
    "3. Write a function which prints an ip address of your local system."
   ]
  },
  {
   "cell_type": "code",
   "execution_count": 7,
   "metadata": {},
   "outputs": [
    {
     "name": "stdout",
     "output_type": "stream",
     "text": [
      "Local system IP address: 172.23.128.1\n"
     ]
    }
   ],
   "source": [
    "import socket\n",
    "\n",
    "def get_local_system_ip_address():\n",
    "    \"\"\"This method gets the host name of the local system, and from host name it gets the ip address and prints it.\"\"\"\n",
    "    \n",
    "    host_name = socket.gethostname()\n",
    "    host_ip_addr = socket.gethostbyname(host_name)\n",
    "    \n",
    "    print(f\"Local system IP address: {host_ip_addr}\")\n",
    "\n",
    "get_local_system_ip_address()"
   ]
  },
  {
   "cell_type": "code",
   "execution_count": null,
   "metadata": {},
   "outputs": [],
   "source": []
  },
  {
   "cell_type": "code",
   "execution_count": null,
   "metadata": {},
   "outputs": [],
   "source": []
  },
  {
   "cell_type": "code",
   "execution_count": null,
   "metadata": {},
   "outputs": [],
   "source": [
    "4. Write a function which will shut your system down."
   ]
  },
  {
   "cell_type": "code",
   "execution_count": 2,
   "metadata": {},
   "outputs": [
    {
     "name": "stdout",
     "output_type": "stream",
     "text": [
      "True\n",
      "****\n"
     ]
    }
   ],
   "source": [
    "import os\n",
    "\n",
    "def shut_system_down(user_wants_shut_system):\n",
    "    \"\"\"This function shuts the system down.\"\"\"\n",
    "    print(user_wants_shut_system)\n",
    "    if user_wants_shut_system:\n",
    "        print(\"****\")\n",
    "        pass\n",
    "        #return os.system(\"shutdown /s /t 1\")\n",
    "    else:\n",
    "        print(\"####\")\n",
    "        exit\n",
    "\n",
    "shut_system_down(True)"
   ]
  },
  {
   "cell_type": "code",
   "execution_count": null,
   "metadata": {},
   "outputs": [],
   "source": []
  },
  {
   "cell_type": "code",
   "execution_count": null,
   "metadata": {},
   "outputs": [],
   "source": []
  },
  {
   "cell_type": "code",
   "execution_count": null,
   "metadata": {},
   "outputs": [],
   "source": [
    "5. Write a function which will take input as a list of any kind of numeric value\n",
    "and give an output as a multiplication of all the numeric data in the list..."
   ]
  },
  {
   "cell_type": "code",
   "execution_count": 21,
   "metadata": {},
   "outputs": [
    {
     "name": "stdout",
     "output_type": "stream",
     "text": [
      "16531.199999999997\n"
     ]
    }
   ],
   "source": [
    "def multiply_list_numeric_elements(lst):\n",
    "    \"\"\"This function takes a list of mixed datatype elements and multiplies all numeric numbers\"\"\"\n",
    "    \n",
    "    initial_multiplier = 1\n",
    "    nums = []\n",
    "    product = 0\n",
    "    \n",
    "    for i in lst:\n",
    "        if (type(i) == int) or (type(i) == float):\n",
    "            \n",
    "            if len(nums) == 0: \n",
    "                product = initial_multiplier * i\n",
    "                nums.append(i)\n",
    "            elif len(nums) > 0:\n",
    "                product = product * i\n",
    "        \n",
    "    return product\n",
    "\n",
    "l1 = [2,\"The\",2,1,3.5,True,3,\"ineuron bootcamp 2.0\",3,[1,3,4],6.56,5,4]\n",
    "nums_product = multiply_list_numeric_elements(l1)#[2,\"The\",2,1,True,3,3,[1,3,4],5,4]\n",
    "\n",
    "print(nums_product)"
   ]
  },
  {
   "cell_type": "code",
   "execution_count": null,
   "metadata": {},
   "outputs": [],
   "source": []
  },
  {
   "cell_type": "code",
   "execution_count": null,
   "metadata": {},
   "outputs": [],
   "source": []
  },
  {
   "cell_type": "code",
   "execution_count": null,
   "metadata": {},
   "outputs": [],
   "source": [
    "6. Write a function which will be able to read all the emails."
   ]
  },
  {
   "cell_type": "code",
   "execution_count": null,
   "metadata": {},
   "outputs": [],
   "source": [
    "def read_emails():\n",
    "    pass"
   ]
  },
  {
   "cell_type": "code",
   "execution_count": null,
   "metadata": {},
   "outputs": [],
   "source": []
  },
  {
   "cell_type": "code",
   "execution_count": null,
   "metadata": {},
   "outputs": [],
   "source": []
  },
  {
   "cell_type": "code",
   "execution_count": null,
   "metadata": {},
   "outputs": [],
   "source": [
    "7. Write a function which will be able to send a mail to anyone."
   ]
  },
  {
   "cell_type": "code",
   "execution_count": null,
   "metadata": {},
   "outputs": [],
   "source": [
    "def send_email():\n",
    "    pass"
   ]
  },
  {
   "cell_type": "code",
   "execution_count": null,
   "metadata": {},
   "outputs": [],
   "source": []
  },
  {
   "cell_type": "code",
   "execution_count": null,
   "metadata": {},
   "outputs": [],
   "source": []
  },
  {
   "cell_type": "code",
   "execution_count": null,
   "metadata": {},
   "outputs": [],
   "source": [
    "8. Write a function which will be able to read a doc/word file from your system."
   ]
  },
  {
   "cell_type": "code",
   "execution_count": null,
   "metadata": {},
   "outputs": [],
   "source": [
    "def read_word_doc():\n",
    "    pass"
   ]
  }
 ],
 "metadata": {
  "kernelspec": {
   "display_name": "Python 3",
   "language": "python",
   "name": "python3"
  },
  "language_info": {
   "codemirror_mode": {
    "name": "ipython",
    "version": 3
   },
   "file_extension": ".py",
   "mimetype": "text/x-python",
   "name": "python",
   "nbconvert_exporter": "python",
   "pygments_lexer": "ipython3",
   "version": "3.8.3"
  }
 },
 "nbformat": 4,
 "nbformat_minor": 4
}
